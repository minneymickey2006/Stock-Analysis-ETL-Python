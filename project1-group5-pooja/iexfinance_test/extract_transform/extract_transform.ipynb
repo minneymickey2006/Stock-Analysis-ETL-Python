{
 "cells": [
  {
   "cell_type": "code",
   "execution_count": 3,
   "metadata": {},
   "outputs": [],
   "source": [
    "import requests\n",
    "import pandas as pd\n",
    "from secrets_config import iex_api_key"
   ]
  },
  {
   "cell_type": "code",
   "execution_count": 55,
   "metadata": {},
   "outputs": [],
   "source": [
    "#The value of stock is taken data.csv file.\n",
    "#Figuring out to configure yml file still not applied.\n",
    "def extract_per_stock(\n",
    "            iex_api_key:str,\n",
    "            stock_ticker:str=None,\n",
    "        )->pd.DataFrame:\n",
    "        headers = {\n",
    "            \"token\" : iex_api_key\n",
    "        }\n",
    "        \"\"\"\n",
    "        Extracting data from the intraday stock API. \n",
    "        - iex_api_key: api key \n",
    "        - stock_tickere: code of the stock e.g. AAPL for APPLE stock\n",
    "        \"\"\"\n",
    "        params = {\n",
    "            \"token\" : iex_api_key\n",
    "        }\n",
    "        base_url = f\"https://cloud.iexapis.com/stable/stock/{stock_ticker}/intraday-prices\"\n",
    "        response = requests.get(base_url, params=params)\n",
    "        if response.status_code == 200: \n",
    "            stock_data = response.json()\n",
    "        else: \n",
    "            raise Exception(\"Extracting weather api data failed. Please check if API limits have been reached.\")\n",
    "        df_stock_codes = pd.json_normalize(stock_data)\n",
    "        return df_stock_codes\n",
    "\n"
   ]
  },
  {
   "cell_type": "code",
   "execution_count": 54,
   "metadata": {},
   "outputs": [],
   "source": [
    "\n",
    "def extract_stocks(\n",
    "            iex_api_key:str, \n",
    "        )->pd.DataFrame:\n",
    "    response_data = []\n",
    "     # read list of stock_codes\n",
    "    df_stock_codes = pd.read_csv(\"data\\stock_codes.csv\")\n",
    "    # request data for each stock_code (json) and push to a list \n",
    "    df_concat = pd.DataFrame()\n",
    "    for exchange_code in df_stock_codes[\"exchange_code\"]:\n",
    "        df_extracted = extract_per_stock(stock_ticker=exchange_code, iex_api_key= iex_api_key)\n",
    "        df_extracted[\"stock_code\"] = exchange_code\n",
    "        df_concat = pd.concat([df_concat,df_extracted])\n",
    "    return df_concat\n",
    "    "
   ]
  },
  {
   "cell_type": "code",
   "execution_count": null,
   "metadata": {},
   "outputs": [],
   "source": [
    "def transform(\n",
    "            df:pd.DataFrame\n",
    "        )->pd.DataFrame:\n",
    "        \"\"\"\n",
    "        Transform the raw dataframes. \n",
    "        - df: the dataframe produced from extract_stocks(). \n",
    "        \"\"\"\n",
    "        # renaming columns\n",
    "        df = df.rename(columns={\n",
    "            \"numberOfTrades\": \"numberoftrades\"\n",
    "            })\n",
    "\n",
    "        #Adding column datetime that includes date and time both. Conversion of minutes into 24-hours format.\n",
    "        df[\"datetime\"] = pd.to_datetime(df[\"minute\"])\n",
    "        #Droping columns \"date\", \"minutes\" and labels, added datetime in prior step\n",
    "        df = df.drop(df.columns[[0,1,2]],axis=1)\n",
    "        #Difference between open and close value across rows.\n",
    "        df[\"difference\"] = (df[\"close\"]-df[\"open\"])\n",
    "        #Creation of new dataframe to analyse the raw dataframe for per day stock vlues.\n",
    "        df1 = pd.DataFrame()\n",
    "        #MAX AND MINOF OPEN , CLOSE, HIGH, LOW VALUE GROUPING ON PER STOCK BASIS and APPLYING LAMBDA FUNCTION\n",
    "        df1[\"max_open_value_per_day\"] = df.groupby('stock_code').apply(lambda df: df[\"open\"].max())\n",
    "        df1[\"min_open_value_per_day\"] = df.groupby('stock_code').apply(lambda df: df[\"open\"].min())\n",
    "        df1[\"max_close_value_per_day\"] = df.groupby('stock_code').apply(lambda df: df[\"close\"].max())\n",
    "        df1[\"min_close_value_per_day\"] = df.groupby('stock_code').apply(lambda df: df[\"close\"].min())\n",
    "        df1[\"max_high_per_day\"] = df.groupby('stock_code').apply(lambda df: df[\"high\"].max())\n",
    "        df1[\"min_high_per_day\"] = df.groupby(\"stock_code\").apply(lambda df: df[\"high\"].min())\n",
    "        df1[\"max_low_per_day\"] = df.groupby('stock_code').apply(lambda df: df[\"low\"].max())\n",
    "        df1[\"min_low_per_day\"] = df.groupby(\"stock_code\").apply(lambda df: df[\"low\"].min())\n",
    "        # Difference sum for per stock\n",
    "        df1[\"status_difference\"] = df.groupby(\"stock_code\").apply(lambda df: df[\"difference\"].sum())\n",
    "\n",
    "        #MEAN VALUE FOR trades and volume PER DAY PER STOCK THROUGH GROUPING BY STOCK CODE AND LAMBDA FUNCTION APPLYING.\n",
    "        df1[\"trades_mean\"] = df.groupby(\"stock_code\").apply(lambda df: df[\"numberoftrades\"].mean())\n",
    "        df1[\"volume_mean\"] = df.groupby(\"stock_code\").apply(lambda df: df[\"volume\"].mean())\n",
    "        \n",
    "        return df1"
   ]
  }
 ],
 "metadata": {
  "kernelspec": {
   "display_name": "dec2",
   "language": "python",
   "name": "python3"
  },
  "language_info": {
   "codemirror_mode": {
    "name": "ipython",
    "version": 3
   },
   "file_extension": ".py",
   "mimetype": "text/x-python",
   "name": "python",
   "nbconvert_exporter": "python",
   "pygments_lexer": "ipython3",
   "version": "3.9.15"
  },
  "orig_nbformat": 4,
  "vscode": {
   "interpreter": {
    "hash": "3d008524e506b533d40ed59888eca6642ef5e1111df3e916a45371e676bd3b05"
   }
  }
 },
 "nbformat": 4,
 "nbformat_minor": 2
}
